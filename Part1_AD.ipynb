{
  "cells": [
    {
      "cell_type": "markdown",
      "metadata": {
        "id": "y6XZ55wHbdm5"
      },
      "source": [
        "# Part 1 of the Machine Learning Project\n",
        "\n",
        "\n",
        "To be submitted by **16/10/2024 23:59**\n",
        "\n",
        "-> Total = **50** pts\n",
        "\n",
        "## Preliminaries\n",
        "\n",
        "\n",
        "Before satring familiarize yourself with pandas reading the “10 minutes to pandas” tutorial: https://pandas.pydata.org/pandas-docs/stable/user_guide/10min.html\n",
        "\n",
        "Browse through the full pandas user guide when needed: https://pandas.pydata.org/pandas-docs/stable/user_guide/index.html\n",
        "\n",
        "\n",
        "## Load libraries"
      ]
    },
    {
      "cell_type": "code",
      "execution_count": 14,
      "metadata": {
        "id": "L8jsxX6eaxL_"
      },
      "outputs": [],
      "source": [
        "# numpy and pandas for data manipulation\n",
        "import numpy as np\n",
        "import pandas as pd\n",
        "\n",
        "# File system manangement\n",
        "import os\n",
        "\n",
        "# Suppress warnings\n",
        "#import warnings\n",
        "#warnings.filterwarnings('ignore')\n",
        "\n",
        "# matplotlib and seaborn for plotting\n",
        "import matplotlib.pyplot as plt\n",
        "import seaborn as sns\n"
      ]
    },
    {
      "cell_type": "markdown",
      "metadata": {
        "id": "ctTp1HonbYpj"
      },
      "source": [
        "<p><img alt=\"Datasets\" src=\"https://storage.googleapis.com/kaggle-media/competitions/home-credit/home_credit.png\" align=\"left\" hspace=\"10px\" vspace=\"0px\"></p>\n",
        "\n",
        "\n",
        "<h1>Datasets</h1>"
      ]
    },
    {
      "cell_type": "code",
      "execution_count": 15,
      "metadata": {
        "id": "TAo_jy0PhBEY"
      },
      "outputs": [
        {
          "data": {
            "text/html": [
              "<div>\n",
              "<style scoped>\n",
              "    .dataframe tbody tr th:only-of-type {\n",
              "        vertical-align: middle;\n",
              "    }\n",
              "\n",
              "    .dataframe tbody tr th {\n",
              "        vertical-align: top;\n",
              "    }\n",
              "\n",
              "    .dataframe thead th {\n",
              "        text-align: right;\n",
              "    }\n",
              "</style>\n",
              "<table border=\"1\" class=\"dataframe\">\n",
              "  <thead>\n",
              "    <tr style=\"text-align: right;\">\n",
              "      <th></th>\n",
              "      <th>SK_ID_CURR</th>\n",
              "      <th>TARGET</th>\n",
              "      <th>NAME_CONTRACT_TYPE</th>\n",
              "      <th>CODE_GENDER</th>\n",
              "      <th>FLAG_OWN_CAR</th>\n",
              "      <th>FLAG_OWN_REALTY</th>\n",
              "      <th>CNT_CHILDREN</th>\n",
              "      <th>AMT_INCOME_TOTAL</th>\n",
              "      <th>AMT_CREDIT</th>\n",
              "      <th>AMT_ANNUITY</th>\n",
              "      <th>...</th>\n",
              "      <th>FLAG_DOCUMENT_18</th>\n",
              "      <th>FLAG_DOCUMENT_19</th>\n",
              "      <th>FLAG_DOCUMENT_20</th>\n",
              "      <th>FLAG_DOCUMENT_21</th>\n",
              "      <th>AMT_REQ_CREDIT_BUREAU_HOUR</th>\n",
              "      <th>AMT_REQ_CREDIT_BUREAU_DAY</th>\n",
              "      <th>AMT_REQ_CREDIT_BUREAU_WEEK</th>\n",
              "      <th>AMT_REQ_CREDIT_BUREAU_MON</th>\n",
              "      <th>AMT_REQ_CREDIT_BUREAU_QRT</th>\n",
              "      <th>AMT_REQ_CREDIT_BUREAU_YEAR</th>\n",
              "    </tr>\n",
              "  </thead>\n",
              "  <tbody>\n",
              "    <tr>\n",
              "      <th>0</th>\n",
              "      <td>100002</td>\n",
              "      <td>1</td>\n",
              "      <td>Cash loans</td>\n",
              "      <td>M</td>\n",
              "      <td>N</td>\n",
              "      <td>Y</td>\n",
              "      <td>0</td>\n",
              "      <td>202500.0</td>\n",
              "      <td>406597.5</td>\n",
              "      <td>24700.5</td>\n",
              "      <td>...</td>\n",
              "      <td>0</td>\n",
              "      <td>0</td>\n",
              "      <td>0</td>\n",
              "      <td>0</td>\n",
              "      <td>0.0</td>\n",
              "      <td>0.0</td>\n",
              "      <td>0.0</td>\n",
              "      <td>0.0</td>\n",
              "      <td>0.0</td>\n",
              "      <td>1.0</td>\n",
              "    </tr>\n",
              "    <tr>\n",
              "      <th>1</th>\n",
              "      <td>100003</td>\n",
              "      <td>0</td>\n",
              "      <td>Cash loans</td>\n",
              "      <td>F</td>\n",
              "      <td>N</td>\n",
              "      <td>N</td>\n",
              "      <td>0</td>\n",
              "      <td>270000.0</td>\n",
              "      <td>1293502.5</td>\n",
              "      <td>35698.5</td>\n",
              "      <td>...</td>\n",
              "      <td>0</td>\n",
              "      <td>0</td>\n",
              "      <td>0</td>\n",
              "      <td>0</td>\n",
              "      <td>0.0</td>\n",
              "      <td>0.0</td>\n",
              "      <td>0.0</td>\n",
              "      <td>0.0</td>\n",
              "      <td>0.0</td>\n",
              "      <td>0.0</td>\n",
              "    </tr>\n",
              "    <tr>\n",
              "      <th>2</th>\n",
              "      <td>100004</td>\n",
              "      <td>0</td>\n",
              "      <td>Revolving loans</td>\n",
              "      <td>M</td>\n",
              "      <td>Y</td>\n",
              "      <td>Y</td>\n",
              "      <td>0</td>\n",
              "      <td>67500.0</td>\n",
              "      <td>135000.0</td>\n",
              "      <td>6750.0</td>\n",
              "      <td>...</td>\n",
              "      <td>0</td>\n",
              "      <td>0</td>\n",
              "      <td>0</td>\n",
              "      <td>0</td>\n",
              "      <td>0.0</td>\n",
              "      <td>0.0</td>\n",
              "      <td>0.0</td>\n",
              "      <td>0.0</td>\n",
              "      <td>0.0</td>\n",
              "      <td>0.0</td>\n",
              "    </tr>\n",
              "    <tr>\n",
              "      <th>3</th>\n",
              "      <td>100006</td>\n",
              "      <td>0</td>\n",
              "      <td>Cash loans</td>\n",
              "      <td>F</td>\n",
              "      <td>N</td>\n",
              "      <td>Y</td>\n",
              "      <td>0</td>\n",
              "      <td>135000.0</td>\n",
              "      <td>312682.5</td>\n",
              "      <td>29686.5</td>\n",
              "      <td>...</td>\n",
              "      <td>0</td>\n",
              "      <td>0</td>\n",
              "      <td>0</td>\n",
              "      <td>0</td>\n",
              "      <td>NaN</td>\n",
              "      <td>NaN</td>\n",
              "      <td>NaN</td>\n",
              "      <td>NaN</td>\n",
              "      <td>NaN</td>\n",
              "      <td>NaN</td>\n",
              "    </tr>\n",
              "    <tr>\n",
              "      <th>4</th>\n",
              "      <td>100007</td>\n",
              "      <td>0</td>\n",
              "      <td>Cash loans</td>\n",
              "      <td>M</td>\n",
              "      <td>N</td>\n",
              "      <td>Y</td>\n",
              "      <td>0</td>\n",
              "      <td>121500.0</td>\n",
              "      <td>513000.0</td>\n",
              "      <td>21865.5</td>\n",
              "      <td>...</td>\n",
              "      <td>0</td>\n",
              "      <td>0</td>\n",
              "      <td>0</td>\n",
              "      <td>0</td>\n",
              "      <td>0.0</td>\n",
              "      <td>0.0</td>\n",
              "      <td>0.0</td>\n",
              "      <td>0.0</td>\n",
              "      <td>0.0</td>\n",
              "      <td>0.0</td>\n",
              "    </tr>\n",
              "    <tr>\n",
              "      <th>...</th>\n",
              "      <td>...</td>\n",
              "      <td>...</td>\n",
              "      <td>...</td>\n",
              "      <td>...</td>\n",
              "      <td>...</td>\n",
              "      <td>...</td>\n",
              "      <td>...</td>\n",
              "      <td>...</td>\n",
              "      <td>...</td>\n",
              "      <td>...</td>\n",
              "      <td>...</td>\n",
              "      <td>...</td>\n",
              "      <td>...</td>\n",
              "      <td>...</td>\n",
              "      <td>...</td>\n",
              "      <td>...</td>\n",
              "      <td>...</td>\n",
              "      <td>...</td>\n",
              "      <td>...</td>\n",
              "      <td>...</td>\n",
              "      <td>...</td>\n",
              "    </tr>\n",
              "    <tr>\n",
              "      <th>307506</th>\n",
              "      <td>456251</td>\n",
              "      <td>0</td>\n",
              "      <td>Cash loans</td>\n",
              "      <td>M</td>\n",
              "      <td>N</td>\n",
              "      <td>N</td>\n",
              "      <td>0</td>\n",
              "      <td>157500.0</td>\n",
              "      <td>254700.0</td>\n",
              "      <td>27558.0</td>\n",
              "      <td>...</td>\n",
              "      <td>0</td>\n",
              "      <td>0</td>\n",
              "      <td>0</td>\n",
              "      <td>0</td>\n",
              "      <td>NaN</td>\n",
              "      <td>NaN</td>\n",
              "      <td>NaN</td>\n",
              "      <td>NaN</td>\n",
              "      <td>NaN</td>\n",
              "      <td>NaN</td>\n",
              "    </tr>\n",
              "    <tr>\n",
              "      <th>307507</th>\n",
              "      <td>456252</td>\n",
              "      <td>0</td>\n",
              "      <td>Cash loans</td>\n",
              "      <td>F</td>\n",
              "      <td>N</td>\n",
              "      <td>Y</td>\n",
              "      <td>0</td>\n",
              "      <td>72000.0</td>\n",
              "      <td>269550.0</td>\n",
              "      <td>12001.5</td>\n",
              "      <td>...</td>\n",
              "      <td>0</td>\n",
              "      <td>0</td>\n",
              "      <td>0</td>\n",
              "      <td>0</td>\n",
              "      <td>NaN</td>\n",
              "      <td>NaN</td>\n",
              "      <td>NaN</td>\n",
              "      <td>NaN</td>\n",
              "      <td>NaN</td>\n",
              "      <td>NaN</td>\n",
              "    </tr>\n",
              "    <tr>\n",
              "      <th>307508</th>\n",
              "      <td>456253</td>\n",
              "      <td>0</td>\n",
              "      <td>Cash loans</td>\n",
              "      <td>F</td>\n",
              "      <td>N</td>\n",
              "      <td>Y</td>\n",
              "      <td>0</td>\n",
              "      <td>153000.0</td>\n",
              "      <td>677664.0</td>\n",
              "      <td>29979.0</td>\n",
              "      <td>...</td>\n",
              "      <td>0</td>\n",
              "      <td>0</td>\n",
              "      <td>0</td>\n",
              "      <td>0</td>\n",
              "      <td>1.0</td>\n",
              "      <td>0.0</td>\n",
              "      <td>0.0</td>\n",
              "      <td>1.0</td>\n",
              "      <td>0.0</td>\n",
              "      <td>1.0</td>\n",
              "    </tr>\n",
              "    <tr>\n",
              "      <th>307509</th>\n",
              "      <td>456254</td>\n",
              "      <td>1</td>\n",
              "      <td>Cash loans</td>\n",
              "      <td>F</td>\n",
              "      <td>N</td>\n",
              "      <td>Y</td>\n",
              "      <td>0</td>\n",
              "      <td>171000.0</td>\n",
              "      <td>370107.0</td>\n",
              "      <td>20205.0</td>\n",
              "      <td>...</td>\n",
              "      <td>0</td>\n",
              "      <td>0</td>\n",
              "      <td>0</td>\n",
              "      <td>0</td>\n",
              "      <td>0.0</td>\n",
              "      <td>0.0</td>\n",
              "      <td>0.0</td>\n",
              "      <td>0.0</td>\n",
              "      <td>0.0</td>\n",
              "      <td>0.0</td>\n",
              "    </tr>\n",
              "    <tr>\n",
              "      <th>307510</th>\n",
              "      <td>456255</td>\n",
              "      <td>0</td>\n",
              "      <td>Cash loans</td>\n",
              "      <td>F</td>\n",
              "      <td>N</td>\n",
              "      <td>N</td>\n",
              "      <td>0</td>\n",
              "      <td>157500.0</td>\n",
              "      <td>675000.0</td>\n",
              "      <td>49117.5</td>\n",
              "      <td>...</td>\n",
              "      <td>0</td>\n",
              "      <td>0</td>\n",
              "      <td>0</td>\n",
              "      <td>0</td>\n",
              "      <td>0.0</td>\n",
              "      <td>0.0</td>\n",
              "      <td>0.0</td>\n",
              "      <td>2.0</td>\n",
              "      <td>0.0</td>\n",
              "      <td>1.0</td>\n",
              "    </tr>\n",
              "  </tbody>\n",
              "</table>\n",
              "<p>307511 rows × 122 columns</p>\n",
              "</div>"
            ],
            "text/plain": [
              "        SK_ID_CURR  TARGET NAME_CONTRACT_TYPE CODE_GENDER FLAG_OWN_CAR  \\\n",
              "0           100002       1         Cash loans           M            N   \n",
              "1           100003       0         Cash loans           F            N   \n",
              "2           100004       0    Revolving loans           M            Y   \n",
              "3           100006       0         Cash loans           F            N   \n",
              "4           100007       0         Cash loans           M            N   \n",
              "...            ...     ...                ...         ...          ...   \n",
              "307506      456251       0         Cash loans           M            N   \n",
              "307507      456252       0         Cash loans           F            N   \n",
              "307508      456253       0         Cash loans           F            N   \n",
              "307509      456254       1         Cash loans           F            N   \n",
              "307510      456255       0         Cash loans           F            N   \n",
              "\n",
              "       FLAG_OWN_REALTY  CNT_CHILDREN  AMT_INCOME_TOTAL  AMT_CREDIT  \\\n",
              "0                    Y             0          202500.0    406597.5   \n",
              "1                    N             0          270000.0   1293502.5   \n",
              "2                    Y             0           67500.0    135000.0   \n",
              "3                    Y             0          135000.0    312682.5   \n",
              "4                    Y             0          121500.0    513000.0   \n",
              "...                ...           ...               ...         ...   \n",
              "307506               N             0          157500.0    254700.0   \n",
              "307507               Y             0           72000.0    269550.0   \n",
              "307508               Y             0          153000.0    677664.0   \n",
              "307509               Y             0          171000.0    370107.0   \n",
              "307510               N             0          157500.0    675000.0   \n",
              "\n",
              "        AMT_ANNUITY  ...  FLAG_DOCUMENT_18 FLAG_DOCUMENT_19 FLAG_DOCUMENT_20  \\\n",
              "0           24700.5  ...                 0                0                0   \n",
              "1           35698.5  ...                 0                0                0   \n",
              "2            6750.0  ...                 0                0                0   \n",
              "3           29686.5  ...                 0                0                0   \n",
              "4           21865.5  ...                 0                0                0   \n",
              "...             ...  ...               ...              ...              ...   \n",
              "307506      27558.0  ...                 0                0                0   \n",
              "307507      12001.5  ...                 0                0                0   \n",
              "307508      29979.0  ...                 0                0                0   \n",
              "307509      20205.0  ...                 0                0                0   \n",
              "307510      49117.5  ...                 0                0                0   \n",
              "\n",
              "       FLAG_DOCUMENT_21 AMT_REQ_CREDIT_BUREAU_HOUR AMT_REQ_CREDIT_BUREAU_DAY  \\\n",
              "0                     0                        0.0                       0.0   \n",
              "1                     0                        0.0                       0.0   \n",
              "2                     0                        0.0                       0.0   \n",
              "3                     0                        NaN                       NaN   \n",
              "4                     0                        0.0                       0.0   \n",
              "...                 ...                        ...                       ...   \n",
              "307506                0                        NaN                       NaN   \n",
              "307507                0                        NaN                       NaN   \n",
              "307508                0                        1.0                       0.0   \n",
              "307509                0                        0.0                       0.0   \n",
              "307510                0                        0.0                       0.0   \n",
              "\n",
              "        AMT_REQ_CREDIT_BUREAU_WEEK  AMT_REQ_CREDIT_BUREAU_MON  \\\n",
              "0                              0.0                        0.0   \n",
              "1                              0.0                        0.0   \n",
              "2                              0.0                        0.0   \n",
              "3                              NaN                        NaN   \n",
              "4                              0.0                        0.0   \n",
              "...                            ...                        ...   \n",
              "307506                         NaN                        NaN   \n",
              "307507                         NaN                        NaN   \n",
              "307508                         0.0                        1.0   \n",
              "307509                         0.0                        0.0   \n",
              "307510                         0.0                        2.0   \n",
              "\n",
              "        AMT_REQ_CREDIT_BUREAU_QRT  AMT_REQ_CREDIT_BUREAU_YEAR  \n",
              "0                             0.0                         1.0  \n",
              "1                             0.0                         0.0  \n",
              "2                             0.0                         0.0  \n",
              "3                             NaN                         NaN  \n",
              "4                             0.0                         0.0  \n",
              "...                           ...                         ...  \n",
              "307506                        NaN                         NaN  \n",
              "307507                        NaN                         NaN  \n",
              "307508                        0.0                         1.0  \n",
              "307509                        0.0                         0.0  \n",
              "307510                        0.0                         1.0  \n",
              "\n",
              "[307511 rows x 122 columns]"
            ]
          },
          "execution_count": 15,
          "metadata": {},
          "output_type": "execute_result"
        }
      ],
      "source": [
        "## Change this part with your own dataset files\n",
        "\n",
        "src_train = 'application_train.csv.zip'\n",
        "src_test = 'application_test.csv.zip'\n",
        "\n",
        "src_previous ='previous_application.csv.zip'\n",
        "src_bureau = 'bureau.csv.zip'\n",
        "\n",
        "# If you cannot load the directly the csv from Google drive (Google restrictions), download them manually then change the path to load them locally\n",
        "\n",
        "app_train = pd.read_csv(src_train, compression=\"zip\")\n",
        "app_train\n"
      ]
    },
    {
      "cell_type": "markdown",
      "metadata": {
        "id": "uPBTWB1ViFHe"
      },
      "source": [
        "<h1>Loading the datasets (2 pts)</h1>\n",
        "\n",
        "1. Similarly to the train set, load the test set, the bureau dataset and the past applications dataset.\n",
        "\n",
        "2. Display for each the number of rows and the number of columns\n",
        "\n",
        "*You will be evaluated as follow*\n",
        "* 1: Correct approach + code: 1pt\n",
        "* 2: Code: 1pts\n"
      ]
    },
    {
      "cell_type": "code",
      "execution_count": 16,
      "metadata": {
        "id": "GjoGTJvLiBPP"
      },
      "outputs": [
        {
          "name": "stdout",
          "output_type": "stream",
          "text": [
            "app_train has the following shape: (307511, 122) (number of rows, number of columns)\n",
            "app_test has the following shape: (48744, 121) (number of rows, number of columns)\n",
            "bureau has the following shape: (1716428, 17) (number of rows, number of columns)\n",
            "app_past has the following shape: (1670214, 37) (number of rows, number of columns)\n"
          ]
        }
      ],
      "source": [
        "#Your code here\n",
        "#The variables that should be implemented to store the data are: app_train, app_test, bureau, app_past\n",
        "\n",
        "\n",
        "# 1 - Loading the different datasets.\n",
        "app_test = pd.read_csv(src_test, compression=\"zip\")\n",
        "bureau = pd.read_csv(src_bureau, compression=\"zip\")\n",
        "app_past =  pd.read_csv(src_previous, compression=\"zip\")\n",
        "\n",
        "# 2 - The number of rows and columns for each\n",
        "print(f\"app_train has the following shape: {app_train.shape} (number of rows, number of columns)\")\n",
        "print(f\"app_test has the following shape: {app_test.shape} (number of rows, number of columns)\")\n",
        "print(f\"bureau has the following shape: {bureau.shape} (number of rows, number of columns)\")\n",
        "print(f\"app_past has the following shape: {app_past.shape} (number of rows, number of columns)\")"
      ]
    },
    {
      "cell_type": "markdown",
      "metadata": {
        "id": "GnMI0pRmkHzH"
      },
      "source": [
        "<h1> Feature Engineering</h1>"
      ]
    },
    {
      "cell_type": "markdown",
      "metadata": {
        "id": "SuAAPVW1kH82"
      },
      "source": [
        "<h2>Missing values (9pts)</h2>\n",
        "\n",
        "\n",
        "**3.a**: What columns are missing the most values in app_test?\n",
        "\n",
        "**3.b**: What columns are missing the most values in bureau?\n",
        "\n",
        "**3.c**: What columns are missing the most values in app_past?\n",
        "\n",
        "4: Fix missing data in app_test dataset using categorization and/or simple imputation when appropriate. Be careful to the **data leakage** issue!\n",
        "\n",
        "*You will be evaluated as follow*\n",
        "* 3: Correct approach + code 2pts.\n",
        "* 4: Description of the approach 4pts. Code implementation of the approach 3pts."
      ]
    },
    {
      "cell_type": "code",
      "execution_count": 17,
      "metadata": {
        "id": "GCD-Tet5rKuq"
      },
      "outputs": [],
      "source": [
        "# 3\n",
        "\n",
        "## Your code here\n",
        "# uncomment if you want more output \n",
        "#pd.set_option('display.max_rows', 500)\n",
        "#pd.set_option('display.max_columns', 500)\n",
        "#pd.set_option('display.width', 1000)\n",
        "\n",
        "#3.a\n",
        "most_missing_app_test = app_test.isna().sum(axis=0).sort_values(ascending=False)\n",
        "#UNCOMMENT NEXT LINE\n",
        "#print(most_missing_app_test)\n",
        "#If you only want to see the list of  columns missing  from data from highest to lowest\n",
        "most_missing_app_test.index\n",
        "\n",
        "#3.b\n",
        "most_missing_bureau = bureau.isna().sum(axis=0).sort_values(ascending=False)\n",
        "#UNCOMMENT NEXT LINE\n",
        "#print(most_missing_bureau)\n",
        "#If you only want to see the list of  columns missing  from data from highest to lowest\n",
        "#most_missing_bureau.index\n",
        "\n",
        "#3.c\n",
        "most_missing_app_past = app_past.isna().sum(axis=0).sort_values(ascending=False)\n",
        "#UNCOMMENT NEXT LINE\n",
        "#print(most_missing_app_past)\n",
        "#If you only want to see the list of  columns missing  from data from highest to lowest\n",
        "#most_missing_app_past.index\n",
        "\n",
        "\n",
        "\n",
        "\n",
        "\n"
      ]
    },
    {
      "cell_type": "code",
      "execution_count": 18,
      "metadata": {},
      "outputs": [
        {
          "name": "stdout",
          "output_type": "stream",
          "text": [
            "Number of columns before processing: 121\n",
            "Number of columns to drop (more than 50% missing): 29\n",
            "Columns dropped: ['OWN_CAR_AGE', 'BASEMENTAREA_AVG', 'YEARS_BUILD_AVG', 'COMMONAREA_AVG', 'ELEVATORS_AVG', 'FLOORSMIN_AVG', 'LANDAREA_AVG', 'LIVINGAPARTMENTS_AVG', 'NONLIVINGAPARTMENTS_AVG', 'NONLIVINGAREA_AVG', 'BASEMENTAREA_MODE', 'YEARS_BUILD_MODE', 'COMMONAREA_MODE', 'ELEVATORS_MODE', 'FLOORSMIN_MODE', 'LANDAREA_MODE', 'LIVINGAPARTMENTS_MODE', 'NONLIVINGAPARTMENTS_MODE', 'NONLIVINGAREA_MODE', 'BASEMENTAREA_MEDI', 'YEARS_BUILD_MEDI', 'COMMONAREA_MEDI', 'ELEVATORS_MEDI', 'FLOORSMIN_MEDI', 'LANDAREA_MEDI', 'LIVINGAPARTMENTS_MEDI', 'NONLIVINGAPARTMENTS_MEDI', 'NONLIVINGAREA_MEDI', 'FONDKAPREMONT_MODE']\n",
            "Number of numerical columns after dropping: 77\n",
            "Number of categorical columns after dropping: 15\n",
            "Missing values after imputation: \n",
            "Series([], dtype: int64)\n"
          ]
        }
      ],
      "source": [
        "# 4: Fix missing data in app_test using categorization and/or simple imputation when appropriate. You should use *only* pandas and numpy here. You should *not* use sklearn (scikit-learn).\n",
        "\n",
        "## Your code here\n",
        "\n",
        "def deal_with_na(app_test):\n",
        "    # Print initial stats\n",
        "    print(f\"Number of columns before processing: {len(app_test.columns)}\")\n",
        "    \n",
        "    # Step 1: Drop columns with more than 50% missing values\n",
        "    threshold = 0.5  # 50% threshold\n",
        "    missing_percentage = app_test.isna().mean()  # Get the percentage of missing values for each column\n",
        "    columns_to_drop = missing_percentage[missing_percentage > threshold].index  # Columns with >50% missing\n",
        "    \n",
        "    print(f\"Number of columns to drop (more than 50% missing): {len(columns_to_drop)}\")\n",
        "    print(f\"Columns dropped: {list(columns_to_drop)}\")\n",
        "    \n",
        "    # Drop the columns from the dataframe\n",
        "    app_test = app_test.drop(columns=columns_to_drop)\n",
        "    \n",
        "    # Step 2: Impute missing values for the remaining columns\n",
        "    numerical_cols = app_test.select_dtypes(include=[np.number]).columns\n",
        "    categorical_cols = app_test.select_dtypes(exclude=[np.number]).columns\n",
        "    \n",
        "    print(f\"Number of numerical columns after dropping: {len(numerical_cols)}\")\n",
        "    print(f\"Number of categorical columns after dropping: {len(categorical_cols)}\")\n",
        "\n",
        "    # Impute numerical columns with the median\n",
        "    for col in numerical_cols:\n",
        "        if app_test[col].isna().sum() > 0:\n",
        "            median_val = app_test[col].median()\n",
        "            app_test[col].fillna(median_val, inplace=True)\n",
        "\n",
        "    # Impute categorical columns with the mode (most frequent value)\n",
        "    for col in categorical_cols:\n",
        "        if app_test[col].isna().sum() > 0:\n",
        "            mode_val = app_test[col].mode()[0]\n",
        "            app_test[col].fillna(mode_val, inplace=True)\n",
        "\n",
        "    # Step 3: Check missing values after imputation\n",
        "    missing_values_after = app_test.isna().sum()\n",
        "    print(\"Missing values after imputation: \")\n",
        "    print(missing_values_after[missing_values_after > 0])\n",
        "    \n",
        "    return app_test\n",
        "\n",
        "\n",
        "# deal with missing data in test dataset\n",
        "app_test = deal_with_na(app_test)\n"
      ]
    },
    {
      "cell_type": "markdown",
      "metadata": {
        "id": "Sz6iD4S-rVUy"
      },
      "source": [
        "**4**: Describe your approach, including how you choose the technique to apply, and how you apply the technique.\n",
        "\n",
        "Explanation :\n",
        "1. Identify if or which columns contain missing values (done in 3.a)\n",
        "\n",
        "2. Seperate the columns, which contain missing values into numerical and categorical and imputate accordingly: \n",
        "    * Numerical Imputation:\n",
        "        We impute missing values in numerical columns using the median. This is a good choice in my opinion because the median is less sensitive to outliers compared to the mean.\n",
        "\n",
        "    * Categorical Imputation:\n",
        "        For categorical columns, we impute missing values using the mode, which represents the most frequent category. Alternatively, we also could create a \"Missing\" category, but I think it makes more sense to use the mode. \n",
        "\n",
        "    * Be careful Data Leakage:\n",
        "        I ensure that no future information (e.g., test labels or features) is used during the imputation process. The imputation strategy is purely based on the available data within the app_test dataset itself, so no leakage from other datasets occurs.\n",
        "\n",
        "3. Ensure that no missing values remain in the dataset"
      ]
    },
    {
      "cell_type": "markdown",
      "metadata": {
        "id": "LRgq0O0R8Dql"
      },
      "source": [
        "## Class Imbalance (8 pts)\n",
        "\n",
        "5. Evaluate the class imbalance of the training set.\n",
        "\n",
        "6. **a** Fix the class imbalance with over/undersampling\n",
        "\n",
        " **b** Use the SMOTE algorithm to fix class imbalance\n",
        "\n",
        "*You will be evaluated as follow*\n",
        "* 5: Correct approach + code: 2pts\n",
        "* 6.a: code 3pt\n",
        "* 6.b: code 3pts"
      ]
    },
    {
      "cell_type": "code",
      "execution_count": 19,
      "metadata": {
        "id": "ylyaMfXN8Kbd"
      },
      "outputs": [
        {
          "name": "stdout",
          "output_type": "stream",
          "text": [
            "TARGET\n",
            "0    282686\n",
            "1     24825\n",
            "Name: count, dtype: int64\n"
          ]
        },
        {
          "data": {
            "text/plain": [
              "<Axes: ylabel='Frequency'>"
            ]
          },
          "execution_count": 19,
          "metadata": {},
          "output_type": "execute_result"
        },
        {
          "data": {
            "image/png": "[encoded data removed]",
            "text/plain": [
              "<Figure size 640x480 with 1 Axes>"
            ]
          },
          "metadata": {},
          "output_type": "display_data"
        }
      ],
      "source": [
        "# 5 - value counts\n",
        "print(app_train['TARGET'].value_counts())\n",
        "\n",
        "# 5 - histograms\n",
        "app_train['TARGET'].astype(int).plot.hist()"
      ]
    },
    {
      "cell_type": "markdown",
      "metadata": {
        "id": "KP0jGTbSfQyb"
      },
      "source": [
        "**5**: Describe briefly your observation \n",
        "\n",
        "There is a significant imbalance between the two classes as you can see in the histogram plot. The class 0 is overrepresented with a total of 282686 in contrast to class 1 which is underrepresented with only 24825.  "
      ]
    },
    {
      "cell_type": "code",
      "execution_count": 20,
      "metadata": {
        "id": "PTyLbFbxgiD1"
      },
      "outputs": [
        {
          "name": "stdout",
          "output_type": "stream",
          "text": [
            "Class distribution after oversampling:\n",
            "TARGET\n",
            "0    282686\n",
            "1    282686\n",
            "Name: count, dtype: int64\n"
          ]
        }
      ],
      "source": [
        "# copy your current dataframe with its .copy() method. You should always use the copy() method if you want to keep the original dataframe untouched when you modify\n",
        "# this is a very common bug, so please read  https://www.statology.org/pandas-copy-dataframe/\n",
        "\n",
        "## Your code here\n",
        "app_train_original = app_train.copy()\n",
        "\n",
        "\n",
        "# 6.a - fix imbalance with undersampling or oversampling\n",
        "# Implement undersampling or oversampling *without* external libraries, only the library provided to implement yourself the chosen solution.\n",
        "\n",
        "# Check the imbalance in the target class\n",
        "target_counts = app_train_original['TARGET'].value_counts()\n",
        "majority_class = target_counts.idxmax()\n",
        "minority_class = target_counts.idxmin()\n",
        "\n",
        "\n",
        "# Split data into majority and minority classes\n",
        "majority_df = app_train_original[app_train_original['TARGET'] == majority_class]\n",
        "minority_df = app_train_original[app_train_original['TARGET'] == minority_class]\n",
        "\n",
        "# Oversample the minority class to match the size of the majority class\n",
        "minority_oversampled = minority_df.sample(len(majority_df), replace=True, random_state=42)\n",
        "\n",
        "# Combine majority class and oversampled minority class\n",
        "app_train_balanced = pd.concat([majority_df, minority_oversampled], axis=0)\n",
        "\n",
        "# Shuffle the dataframe to mix both classes\n",
        "app_train_balanced = app_train_balanced.sample(frac=1, random_state=42).reset_index(drop=True)\n",
        "\n",
        "# Check if the dataset is now balanced\n",
        "balanced_counts = app_train_balanced['TARGET'].value_counts()\n",
        "print(\"Class distribution after oversampling:\")\n",
        "print(balanced_counts)\n",
        "\n",
        "\n"
      ]
    },
    {
      "cell_type": "code",
      "execution_count": 21,
      "metadata": {},
      "outputs": [
        {
          "name": "stdout",
          "output_type": "stream",
          "text": [
            "Number of columns before processing: 122\n",
            "Number of columns to drop (more than 50% missing): 41\n",
            "Columns dropped: ['OWN_CAR_AGE', 'EXT_SOURCE_1', 'APARTMENTS_AVG', 'BASEMENTAREA_AVG', 'YEARS_BUILD_AVG', 'COMMONAREA_AVG', 'ELEVATORS_AVG', 'ENTRANCES_AVG', 'FLOORSMIN_AVG', 'LANDAREA_AVG', 'LIVINGAPARTMENTS_AVG', 'LIVINGAREA_AVG', 'NONLIVINGAPARTMENTS_AVG', 'NONLIVINGAREA_AVG', 'APARTMENTS_MODE', 'BASEMENTAREA_MODE', 'YEARS_BUILD_MODE', 'COMMONAREA_MODE', 'ELEVATORS_MODE', 'ENTRANCES_MODE', 'FLOORSMIN_MODE', 'LANDAREA_MODE', 'LIVINGAPARTMENTS_MODE', 'LIVINGAREA_MODE', 'NONLIVINGAPARTMENTS_MODE', 'NONLIVINGAREA_MODE', 'APARTMENTS_MEDI', 'BASEMENTAREA_MEDI', 'YEARS_BUILD_MEDI', 'COMMONAREA_MEDI', 'ELEVATORS_MEDI', 'ENTRANCES_MEDI', 'FLOORSMIN_MEDI', 'LANDAREA_MEDI', 'LIVINGAPARTMENTS_MEDI', 'LIVINGAREA_MEDI', 'NONLIVINGAPARTMENTS_MEDI', 'NONLIVINGAREA_MEDI', 'FONDKAPREMONT_MODE', 'HOUSETYPE_MODE', 'WALLSMATERIAL_MODE']\n",
            "Number of numerical columns after dropping: 68\n",
            "Number of categorical columns after dropping: 13\n",
            "Missing values after imputation: \n",
            "Series([], dtype: int64)\n",
            "(307511, 80)\n",
            "Class distribution after SMOTE:\n",
            "TARGET\n",
            "1    282686\n",
            "0    282686\n",
            "Name: count, dtype: int64\n"
          ]
        }
      ],
      "source": [
        "# 6.b - fix balance with SMOTE on your previously copied dataframe\n",
        "# You can use any external libraries to use SMOTE. We recommend the imbalanced-learn package https://imbalanced-learn.org/stable/over_sampling.html\n",
        "# Make sure to select the appropriate SMOTE variant.\n",
        "\n",
        "\n",
        "## Your code here\n",
        "from imblearn.over_sampling import SMOTENC\n",
        "\n",
        "app_train_smote = deal_with_na(app_train_original.copy()) # copy and fix missing values just like in the test dataset\n",
        "\n",
        "# Separate features and target variable\n",
        "X = app_train_smote.drop(columns='TARGET', axis=1)\n",
        "y = app_train_smote['TARGET']\n",
        "print(X.shape)\n",
        "categorical_cols = app_train_smote.select_dtypes(include=['object', 'category']).columns\n",
        "categorical_features = [X.columns.get_loc(col) for col in categorical_cols]  \n",
        "smote = SMOTENC(categorical_features,random_state=42)\n",
        "X_resampled, y_resampled = smote.fit_resample(X, y)\n",
        "\n",
        "# Combine the resampled data back into a dataframe\n",
        "app_train_smote = pd.DataFrame(X_resampled, columns=X.columns)\n",
        "app_train_smote['TARGET'] = y_resampled\n",
        "\n",
        "# Check if the dataset is now balanced\n",
        "smote_counts = app_train_smote['TARGET'].value_counts()\n",
        "print(\"Class distribution after SMOTE:\")\n",
        "print(smote_counts)\n",
        "\n",
        "# \n",
        "# We will use the dataframe app_train from 6.a in the following"
      ]
    },
    {
      "cell_type": "markdown",
      "metadata": {
        "id": "h27ZdP7aloQb"
      },
      "source": [
        "<h2>Categorical features (9pts)</h2>\n",
        "\n",
        "In `app_test`\n",
        "\n",
        "**7a**: How will you transform the column NAME_HOUSING_TYPE in app_test be correctly handled by the model? How will you transform CODE_GENDER column?\n",
        "\n",
        "**7b**: How would you transform the column NAME_HOUSING_TYPE in app_test if you want only 3 categories? Use LabelEncoder to transform FLAG_OWN_CAR column.\n",
        "\n",
        "**7c**: In ORGANIZATION_TYPE, only keep the categories that appear in more than 10% of the dataset. Group other categories in one. What is the size of the dummy vector for ORGANIZATION_TYPE after this transformation?\n",
        "\n",
        "\n",
        "8: **In app_test, app_past and bureau,** transform all the categorical columns that you have not processed in 7 using One-hot encoding.\n",
        "\n",
        "*You will be evaluated as follow*\n",
        "* 7: Description of the approach 4pts. Code 3pts.\n",
        "* 8: Correct approach + code 2pts."
      ]
    },
    {
      "cell_type": "code",
      "execution_count": 24,
      "metadata": {},
      "outputs": [
        {
          "data": {
            "text/plain": [
              "array(['Rented apartment', 'House / apartment', 'With parents',\n",
              "       'Municipal apartment', 'Co-op apartment', 'Office apartment'],\n",
              "      dtype=object)"
            ]
          },
          "execution_count": 24,
          "metadata": {},
          "output_type": "execute_result"
        }
      ],
      "source": [
        "#7a\n",
        "app_train_balanced['NAME_HOUSING_TYPE'].unique()"
      ]
    },
    {
      "cell_type": "code",
      "execution_count": 23,
      "metadata": {},
      "outputs": [
        {
          "data": {
            "text/plain": [
              "array(['F', 'M', 'XNA'], dtype=object)"
            ]
          },
          "execution_count": 23,
          "metadata": {},
          "output_type": "execute_result"
        }
      ],
      "source": [
        "app_train_balanced['CODE_GENDER'].unique()"
      ]
    },
    {
      "cell_type": "code",
      "execution_count": null,
      "metadata": {
        "id": "shlk_faurPh6"
      },
      "outputs": [],
      "source": [
        "#8\n"
      ]
    },
    {
      "cell_type": "markdown",
      "metadata": {
        "id": "ufWJR8ScnHb4"
      },
      "source": [
        "<h2>Anomalies (7 pts)</h2>\n",
        "\n",
        "**In app_test**\n",
        "\n",
        "**9a**: Is there an anomaly with the column DEF_30_CNT_SOCIAL_CIRCLE? If so, how would you solve it?\n",
        "\n",
        "**9b**: Is there an anomaly with the column LANDAREA_AVG? If so, how would you solve it?\n",
        "\n",
        "**9c**: Is there an anomaly with the column AMT_INCOME_TOTAL? If so, how would you solve it?\n",
        "\n",
        "10: Fix the anomaly in DAYS_EMPLOYED?\n",
        "\n",
        "*You will be evaluated as follow*\n",
        "* 9: Description of the approach + code 5pts.\n",
        "* 10: code 2pts"
      ]
    },
    {
      "cell_type": "code",
      "execution_count": null,
      "metadata": {
        "id": "I5TcZk8Q5jQ-"
      },
      "outputs": [],
      "source": [
        "## Your code here"
      ]
    },
    {
      "cell_type": "markdown",
      "metadata": {
        "id": "DgQ2i5B25lRC"
      },
      "source": [
        "<h2>Correlations (9 pts)</h2>\n",
        "\n",
        "\n",
        "11: **In app_test**, remove the collinear features of the dataset. How did you choose the threshold?\n",
        "\n",
        "12: What features from bureau.csv could you use to improve the training set? Use the random forest model from the notebook of the Lecture to check if it actually improves the final model performance.\n",
        "\n",
        "*You will be evaluated as follow*\n",
        "* 11: Code 3pts. Threshold explanation 1pt.\n",
        "* 12: Description of the approach 1pt. Code implementation of the approach 2pts. Improved performance 2pts."
      ]
    },
    {
      "cell_type": "code",
      "execution_count": null,
      "metadata": {
        "id": "uU1j3LW2S-ir"
      },
      "outputs": [],
      "source": [
        "## Your code here"
      ]
    },
    {
      "cell_type": "markdown",
      "metadata": {
        "id": "7_fQJhfcyQWn"
      },
      "source": [
        "##  Class imbalance and model performances (6 points)\n",
        "\n",
        "\n",
        "**13**: Evaluate the other technique (SMOTE) to handeling imbalance data left in *6.b*. Does it makes a difference on the final model performance? Can you use the performance on the test set to choose which techniques to use? If not, what would you need to do so?\n",
        "\n",
        "*You will be evaluated as follow*\n",
        "* 13: Code 3pts. Explanation 3pts.\n"
      ]
    },
    {
      "cell_type": "code",
      "execution_count": null,
      "metadata": {
        "id": "jDR7b8VRyUkS"
      },
      "outputs": [],
      "source": [
        "## Your code here"
      ]
    },
    {
      "cell_type": "markdown",
      "metadata": {
        "id": "-kxXg4CA3nPO"
      },
      "source": [
        "**13**: Answer the question here (double click to edit a text cell)\n",
        "\n"
      ]
    }
  ],
  "metadata": {
    "colab": {
      "provenance": []
    },
    "kernelspec": {
      "display_name": "base",
      "language": "python",
      "name": "python3"
    },
    "language_info": {
      "codemirror_mode": {
        "name": "ipython",
        "version": 3
      },
      "file_extension": ".py",
      "mimetype": "text/x-python",
      "name": "python",
      "nbconvert_exporter": "python",
      "pygments_lexer": "ipython3",
      "version": "3.11.5"
    }
  },
  "nbformat": 4,
  "nbformat_minor": 0
}
